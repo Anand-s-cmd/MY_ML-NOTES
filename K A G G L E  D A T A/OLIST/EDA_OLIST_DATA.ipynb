{
 "cells": [
  {
   "cell_type": "markdown",
   "metadata": {},
   "source": [
    "# Building Machine Learning Pipelines: Data Analysis Phase\n",
    "In this and the upcoming videos we will focus on creating Machine Learning Pipelines considering all the life cycle of a Data Science Projects. This will be important for professionals who have not worked with huge dataset."
   ]
  },
  {
   "cell_type": "markdown",
   "metadata": {},
   "source": [
    "# Project Name: OLIST DATA : DATA ANALYSIS"
   ]
  },
  {
   "cell_type": "markdown",
   "metadata": {},
   "source": [
    "# All the Lifecycle In A Data Science Projects¶\n",
    "1. Data Analysis\n",
    "2. Feature Engineering\n",
    "3. Feature Selection\n",
    "4. Model Building\n",
    "5. Model Deployment"
   ]
  },
  {
   "cell_type": "markdown",
   "metadata": {},
   "source": [
    "# Libs and Functions"
   ]
  },
  {
   "cell_type": "code",
   "execution_count": 7,
   "metadata": {},
   "outputs": [],
   "source": [
    "## Data Analysis Phase\n",
    "## MAin aim is to understand more about the data\n",
    "\n",
    "import pandas as pd\n",
    "import numpy as np\n",
    "import matplotlib.pyplot as plt\n",
    "%matplotlib inline\n",
    "import seaborn as sns\n",
    "## Display all the columns of the dataframe\n",
    "\n",
    "pd.pandas.set_option('display.max_columns',None)\n",
    "\n",
    "#extra libraries nedded for the project\n",
    "\n",
    "import pandas as pd\n",
    "import numpy as np\n",
    "import seaborn as sns\n",
    "import matplotlib.pyplot as plt\n",
    "%matplotlib inline\n",
    "from matplotlib.gridspec import GridSpec\n",
    "#import missingno as msno\n",
    "import re\n",
    "from collections import Counter\n",
    "import nltk\n",
    "from nltk.corpus import stopwords\n",
    "from nltk.stem import RSLPStemmer\n",
    "import string\n",
    "import sys\n",
    "from sklearn.model_selection import train_test_split\n",
    "from sklearn.feature_extraction.text import CountVectorizer, TfidfVectorizer\n",
    "from sklearn.base import BaseEstimator, TransformerMixin\n",
    "from scipy.sparse import csr_matrix\n",
    "from sklearn.pipeline import Pipeline\n",
    "from sklearn.linear_model import LogisticRegression\n",
    "from sklearn.model_selection import cross_val_score, cross_val_predict\n",
    "from sklearn.metrics import confusion_matrix, accuracy_score, precision_score, recall_score, f1_score\n",
    "import time\n",
    "import sys\n",
    "import math\n",
    "import itertools\n",
    "from sklearn.naive_bayes import GaussianNB\n",
    "from sklearn.svm import SVC\n",
    "#import folium\n",
    "#from folium.plugins import Fullscreen\n",
    "#import geopandas as gpd\n",
    "import json\n",
    "#from wordcloud import WordCloud\n",
    "import warnings\n",
    "warnings.filterwarnings('ignore')"
   ]
  },
  {
   "cell_type": "code",
   "execution_count": 24,
   "metadata": {},
   "outputs": [
    {
     "name": "stdout",
     "output_type": "stream",
     "text": [
      "seller data size (100, 4)\n",
      "product_category_name_translation data size (70, 2)\n",
      "olist_customers_dataset data size (100, 5)\n",
      "olist_order_items_dataset data size (100, 7)\n",
      "olist_order_payments_dataset data size (100, 5)\n",
      "olist_order_reviews_dataset data size (100, 7)\n",
      "olist_orders_dataset.csv data size (100, 8)\n",
      "olist_products_dataset.csv data size (100, 9)\n"
     ]
    }
   ],
   "source": [
    "data1 = pd.read_csv(r'C:\\EXCELR\\NOTES WRITTEN\\K A G G L E  D A T A\\OLIST\\DATA\\datasets_55151_195341_olist_sellers_dataset.csv')\n",
    "seller =data1.ix[1:100, :]\n",
    "print(\"seller data size\", seller.shape)\n",
    "\n",
    "data2 = pd.read_csv(r'C:\\EXCELR\\NOTES WRITTEN\\K A G G L E  D A T A\\OLIST\\DATA\\datasets_55151_195341_product_category_name_translation.csv')\n",
    "product_category_name_translation=data2.ix[1:100, :]\n",
    "print(\"product_category_name_translation data size\", product_category_name_translation.shape)\n",
    "\n",
    "data3 = pd.read_csv(r'C:\\EXCELR\\NOTES WRITTEN\\K A G G L E  D A T A\\OLIST\\DATA\\olist_customers_dataset.csv')\n",
    "olist_customers_dataset=data3.ix[1:100, :]\n",
    "print(\"olist_customers_dataset data size\", olist_customers_dataset.shape)\n",
    "\n",
    "data4 = pd.read_csv(r'C:\\EXCELR\\NOTES WRITTEN\\K A G G L E  D A T A\\OLIST\\DATA\\olist_order_items_dataset.csv')\n",
    "olist_order_items_dataset=data4.ix[1:100, :]\n",
    "print(\"olist_order_items_dataset data size\", olist_order_items_dataset.shape)\n",
    "\n",
    "data5 = pd.read_csv(r'C:\\EXCELR\\NOTES WRITTEN\\K A G G L E  D A T A\\OLIST\\DATA\\olist_order_payments_dataset.csv')\n",
    "olist_order_payments_dataset=data5.ix[1:100, :]\n",
    "print(\"olist_order_payments_dataset data size\", olist_order_payments_dataset.shape)\n",
    "\n",
    "data6 = pd.read_csv(r'C:\\EXCELR\\NOTES WRITTEN\\K A G G L E  D A T A\\OLIST\\DATA\\olist_order_reviews_dataset.csv')\n",
    "olist_order_reviews_dataset=data6.ix[1:100, :]\n",
    "print(\"olist_order_reviews_dataset data size\", olist_order_reviews_dataset.shape)\n",
    "\n",
    "data7 = pd.read_csv(r'C:\\EXCELR\\NOTES WRITTEN\\K A G G L E  D A T A\\OLIST\\DATA\\olist_orders_dataset.csv')\n",
    "olist_orders_dataset=data7.ix[1:100, :]\n",
    "print(\"olist_orders_dataset.csv data size\", olist_orders_dataset.shape)\n",
    "\n",
    "data8 = pd.read_csv(r'C:\\EXCELR\\NOTES WRITTEN\\K A G G L E  D A T A\\OLIST\\DATA\\olist_products_dataset.csv')\n",
    "olist_products_dataset=data8.ix[1:100, :]\n",
    "print(\"olist_products_dataset.csv data size\", olist_products_dataset.shape)\n"
   ]
  },
  {
   "cell_type": "markdown",
   "metadata": {},
   "source": [
    "# EDA STARTS "
   ]
  },
  {
   "cell_type": "markdown",
   "metadata": {},
   "source": [
    "In Data Analysis We will Analyze To Find out the below stuff\n",
    "\n",
    "1. Missing Values\n",
    "2. All The Numerical Variables\n",
    "3. Distribution of the Numerical Variables\n",
    "4. Categorical Variables\n",
    "5. Cardinality of Categorical Variables\n",
    "6. Outliers\n",
    "7. Relationship between independent and dependent feature(SalePrice)"
   ]
  },
  {
   "cell_type": "code",
   "execution_count": 71,
   "metadata": {},
   "outputs": [
    {
     "name": "stdout",
     "output_type": "stream",
     "text": [
      "seller data size (3095, 4)\n",
      "product_category_name_translation data size (71, 2)\n",
      "olist_customers_dataset data size (99441, 5)\n",
      "olist_order_items_dataset data size (112650, 7)\n",
      "olist_order_payments_dataset data size (103886, 5)\n",
      "olist_order_reviews_dataset data size (100000, 7)\n",
      "olist_orders_dataset.csv data size (99441, 8)\n",
      "olist_products_dataset.csv data size (32951, 9)\n"
     ]
    }
   ],
   "source": [
    "olist_sellers = pd.read_csv(r'C:\\EXCELR\\NOTES WRITTEN\\K A G G L E  D A T A\\OLIST\\DATA\\datasets_55151_195341_olist_sellers_dataset.csv')\n",
    "\n",
    "print(\"seller data size\", olist_sellers_dataset.shape)\n",
    "\n",
    "product_category_name_translation = pd.read_csv(r'C:\\EXCELR\\NOTES WRITTEN\\K A G G L E  D A T A\\OLIST\\DATA\\datasets_55151_195341_product_category_name_translation.csv')\n",
    "\n",
    "print(\"product_category_name_translation data size\", product_category_name_translation.shape)\n",
    "\n",
    "olist_customer = pd.read_csv(r'C:\\EXCELR\\NOTES WRITTEN\\K A G G L E  D A T A\\OLIST\\DATA\\olist_customers_dataset.csv')\n",
    "\n",
    "print(\"olist_customers_dataset data size\", olist_customer.shape)\n",
    "\n",
    "olist_order_items = pd.read_csv(r'C:\\EXCELR\\NOTES WRITTEN\\K A G G L E  D A T A\\OLIST\\DATA\\olist_order_items_dataset.csv')\n",
    "\n",
    "print(\"olist_order_items_dataset data size\", olist_order_items.shape)\n",
    "\n",
    "olist_order_payments = pd.read_csv(r'C:\\EXCELR\\NOTES WRITTEN\\K A G G L E  D A T A\\OLIST\\DATA\\olist_order_payments_dataset.csv')\n",
    "\n",
    "print(\"olist_order_payments_dataset data size\", olist_order_payments.shape)\n",
    "\n",
    "olist_order_reviews  = pd.read_csv(r'C:\\EXCELR\\NOTES WRITTEN\\K A G G L E  D A T A\\OLIST\\DATA\\olist_order_reviews_dataset.csv')\n",
    "\n",
    "print(\"olist_order_reviews_dataset data size\", olist_order_reviews.shape)\n",
    "\n",
    "olist_orders  = pd.read_csv(r'C:\\EXCELR\\NOTES WRITTEN\\K A G G L E  D A T A\\OLIST\\DATA\\olist_orders_dataset.csv')\n",
    "\n",
    "print(\"olist_orders_dataset.csv data size\", olist_orders.shape)\n",
    "\n",
    "olist_products  = pd.read_csv(r'C:\\EXCELR\\NOTES WRITTEN\\K A G G L E  D A T A\\OLIST\\DATA\\olist_products_dataset.csv')\n",
    "\n",
    "print(\"olist_products_dataset.csv data size\", olist_products.shape)\n"
   ]
  },
  {
   "cell_type": "code",
   "execution_count": 78,
   "metadata": {},
   "outputs": [
    {
     "name": "stdout",
     "output_type": "stream",
     "text": [
      "Customers: 5 columns\n",
      "['customer_id', 'customer_unique_id', 'customer_zip_code_prefix', 'customer_city', 'customer_state']\n",
      "\n",
      "Service_Orders: 8 columns\n",
      "['order_id', 'customer_id', 'order_status', 'order_purchase_timestamp', 'order_approved_at', 'order_delivered_carrier_date', 'order_delivered_customer_date', 'order_estimated_delivery_date']\n",
      "\n",
      "Items: 7 columns\n",
      "['order_id', 'order_item_id', 'product_id', 'seller_id', 'shipping_limit_date', 'price', 'freight_value']\n",
      "\n",
      "Service_Payments: 5 columns\n",
      "['order_id', 'payment_sequential', 'payment_type', 'payment_installments', 'payment_value']\n",
      "\n",
      "Service_Reviews: 7 columns\n",
      "['review_id', 'order_id', 'review_score', 'review_comment_title', 'review_comment_message', 'review_creation_date', 'review_answer_timestamp']\n",
      "\n",
      "Products: 9 columns\n",
      "['product_id', 'product_category_name', 'product_name_lenght', 'product_description_lenght', 'product_photos_qty', 'product_weight_g', 'product_length_cm', 'product_height_cm', 'product_width_cm']\n",
      "\n",
      "Sellers: 4 columns\n",
      "['seller_id', 'seller_zip_code_prefix', 'seller_city', 'seller_state']\n",
      "\n"
     ]
    }
   ],
   "source": [
    "dataframes = {\n",
    "    'Customers': olist_customer,\n",
    "    'Service_Orders': olist_orders,\n",
    "    'Items': olist_order_items,\n",
    "    'Service_Payments': olist_order_payments,\n",
    "    'Service_Reviews': olist_order_reviews,\n",
    "    'Products': olist_products,\n",
    "    'Sellers': olist_sellers\n",
    "}\n",
    "\n",
    "for name, df in dataframes.items():\n",
    "    print(f'{name}: {len(df.columns)} columns')\n",
    "    print(f'{list(df.columns)}\\n')"
   ]
  },
  {
   "cell_type": "code",
   "execution_count": 79,
   "metadata": {},
   "outputs": [
    {
     "name": "stdout",
     "output_type": "stream",
     "text": [
      "Customers: 3 PKs or FKs\n",
      "['customer_id', 'customer_unique_id', 'customer_zip_code_prefix']\n",
      "\n",
      "Service_Orders: 2 PKs or FKs\n",
      "['order_id', 'customer_id']\n",
      "\n",
      "Items: 4 PKs or FKs\n",
      "['order_id', 'order_item_id', 'product_id', 'seller_id']\n",
      "\n",
      "Service_Payments: 1 PKs or FKs\n",
      "['order_id']\n",
      "\n",
      "Service_Reviews: 2 PKs or FKs\n",
      "['review_id', 'order_id']\n",
      "\n",
      "Products: 1 PKs or FKs\n",
      "['product_id']\n",
      "\n",
      "Sellers: 2 PKs or FKs\n",
      "['seller_id', 'seller_zip_code_prefix']\n",
      "\n"
     ]
    }
   ],
   "source": [
    "# Foreign keys\n",
    "for name, df in dataframes.items():\n",
    "    chaves = [col for col in df.columns if '_id' in col or 'code' in col]\n",
    "    print(f'{name}: {len(chaves)} PKs or FKs')\n",
    "    print(f'{chaves}\\n')"
   ]
  },
  {
   "cell_type": "markdown",
   "metadata": {},
   "source": [
    "# Null Data"
   ]
  },
  {
   "cell_type": "raw",
   "metadata": {},
   "source": [
    "*** We have a bunch of datasets that can be connected using id columns. Let's see if we have null data in anyone of them ***"
   ]
  },
  {
   "cell_type": "code",
   "execution_count": 80,
   "metadata": {},
   "outputs": [
    {
     "name": "stdout",
     "output_type": "stream",
     "text": [
      "Customers   - False\n",
      "Service_Orders- True\n",
      "Items       - False\n",
      "Service_Payments- False\n",
      "Service_Reviews- True\n",
      "Products    - True\n",
      "Sellers     - False\n"
     ]
    }
   ],
   "source": [
    "for name, df in dataframes.items():\n",
    "    print(f'{name:<12}- {df.isnull().any().any()}')"
   ]
  },
  {
   "cell_type": "raw",
   "metadata": {},
   "source": [
    "*** We have null data in orders, reviews and products datasets. How many? ***"
   ]
  },
  {
   "cell_type": "code",
   "execution_count": 81,
   "metadata": {},
   "outputs": [
    {
     "name": "stdout",
     "output_type": "stream",
     "text": [
      "Dataset: Service_Orders\n",
      "\n",
      "order_id                            0\n",
      "customer_id                         0\n",
      "order_status                        0\n",
      "order_purchase_timestamp            0\n",
      "order_approved_at                 160\n",
      "order_delivered_carrier_date     1783\n",
      "order_delivered_customer_date    2965\n",
      "order_estimated_delivery_date       0\n",
      "dtype: int64\n",
      "\n",
      "Dataset: Service_Reviews\n",
      "\n",
      "review_id                      0\n",
      "order_id                       0\n",
      "review_score                   0\n",
      "review_comment_title       88285\n",
      "review_comment_message     58247\n",
      "review_creation_date           0\n",
      "review_answer_timestamp        0\n",
      "dtype: int64\n",
      "\n",
      "Dataset: Products\n",
      "\n",
      "product_id                      0\n",
      "product_category_name         610\n",
      "product_name_lenght           610\n",
      "product_description_lenght    610\n",
      "product_photos_qty            610\n",
      "product_weight_g                2\n",
      "product_length_cm               2\n",
      "product_height_cm               2\n",
      "product_width_cm                2\n",
      "dtype: int64\n",
      "\n"
     ]
    }
   ],
   "source": [
    "for name, df in dataframes.items():\n",
    "    if df.isnull().any().any():\n",
    "        print(f'Dataset: {name}\\n')\n",
    "        print(f'{df.isnull().sum()}\\n')"
   ]
  },
  {
   "cell_type": "raw",
   "metadata": {},
   "source": [
    "* Null data in Orders dataset are from:\n",
    "    * Orders without approval date;\n",
    "    * Orders that weren't delivered to the carrier;\n",
    "    * Orders that weren't delivered to the customer.\n",
    "    \n",
    "* Null data in Reviews dataset are from:\n",
    "   * Orders without comments;\n",
    "   * Comments without title;\n",
    "   \n",
    "* Null data in Products dataset are from:\n",
    "   * Products without categories, no name information, description, photos and attributes.\n",
    "   "
   ]
  },
  {
   "cell_type": "markdown",
   "metadata": {},
   "source": [
    "# Data Types"
   ]
  },
  {
   "cell_type": "code",
   "execution_count": 83,
   "metadata": {},
   "outputs": [
    {
     "name": "stdout",
     "output_type": "stream",
     "text": [
      "Dataset: Customers\n",
      "\n",
      "customer_id                 object\n",
      "customer_unique_id          object\n",
      "customer_zip_code_prefix     int64\n",
      "customer_city               object\n",
      "customer_state              object\n",
      "dtype: object\n",
      "\n",
      "Dataset: Service_Orders\n",
      "\n",
      "order_id                         object\n",
      "customer_id                      object\n",
      "order_status                     object\n",
      "order_purchase_timestamp         object\n",
      "order_approved_at                object\n",
      "order_delivered_carrier_date     object\n",
      "order_delivered_customer_date    object\n",
      "order_estimated_delivery_date    object\n",
      "dtype: object\n",
      "\n",
      "Dataset: Items\n",
      "\n",
      "order_id                object\n",
      "order_item_id            int64\n",
      "product_id              object\n",
      "seller_id               object\n",
      "shipping_limit_date     object\n",
      "price                  float64\n",
      "freight_value          float64\n",
      "dtype: object\n",
      "\n",
      "Dataset: Service_Payments\n",
      "\n",
      "order_id                 object\n",
      "payment_sequential        int64\n",
      "payment_type             object\n",
      "payment_installments      int64\n",
      "payment_value           float64\n",
      "dtype: object\n",
      "\n",
      "Dataset: Service_Reviews\n",
      "\n",
      "review_id                  object\n",
      "order_id                   object\n",
      "review_score                int64\n",
      "review_comment_title       object\n",
      "review_comment_message     object\n",
      "review_creation_date       object\n",
      "review_answer_timestamp    object\n",
      "dtype: object\n",
      "\n",
      "Dataset: Products\n",
      "\n",
      "product_id                     object\n",
      "product_category_name          object\n",
      "product_name_lenght           float64\n",
      "product_description_lenght    float64\n",
      "product_photos_qty            float64\n",
      "product_weight_g              float64\n",
      "product_length_cm             float64\n",
      "product_height_cm             float64\n",
      "product_width_cm              float64\n",
      "dtype: object\n",
      "\n",
      "Dataset: Sellers\n",
      "\n",
      "seller_id                 object\n",
      "seller_zip_code_prefix     int64\n",
      "seller_city               object\n",
      "seller_state              object\n",
      "dtype: object\n",
      "\n"
     ]
    }
   ],
   "source": [
    "for name, df in dataframes.items():\n",
    "    print(f'Dataset: {name}\\n')\n",
    "    print(f'{df.dtypes}\\n')\n"
   ]
  },
  {
   "cell_type": "markdown",
   "metadata": {},
   "source": [
    "# We can see that in some attributes we have the wrong data type assigned. For example, there are date columns in orders dataset assigned as strings. Let's apply the transformations"
   ]
  },
  {
   "cell_type": "code",
   "execution_count": 85,
   "metadata": {},
   "outputs": [
    {
     "data": {
      "text/plain": [
       "order_id                                 object\n",
       "customer_id                              object\n",
       "order_status                             object\n",
       "order_purchase_timestamp         datetime64[ns]\n",
       "order_approved_at                datetime64[ns]\n",
       "order_delivered_carrier_date     datetime64[ns]\n",
       "order_delivered_customer_date    datetime64[ns]\n",
       "order_estimated_delivery_date    datetime64[ns]\n",
       "dtype: object"
      ]
     },
     "execution_count": 85,
     "metadata": {},
     "output_type": "execute_result"
    }
   ],
   "source": [
    "time_cols = ['order_purchase_timestamp', 'order_approved_at', 'order_delivered_carrier_date',\n",
    "           'order_delivered_customer_date', 'order_estimated_delivery_date']\n",
    "for col in time_cols:\n",
    "    olist_orders[col] = pd.to_datetime(olist_orders[col])\n",
    "    \n",
    "# Checking\n",
    "olist_orders.dtypes"
   ]
  },
  {
   "cell_type": "markdown",
   "metadata": {},
   "source": [
    "# Graphical Exploration\n",
    "\n",
    "\n",
    "*** It is known that online shopping is growing up each day. In Brazil, this is no different. Few years ago, there was a kind of fear about buying things online. Nowadays, many people prefer the conveniance and facility that only e-commerce can offer. ***\n",
    "\n",
    "Does the data we have in hands show this perspective?"
   ]
  },
  {
   "cell_type": "code",
   "execution_count": 87,
   "metadata": {},
   "outputs": [],
   "source": [
    "# Creating new year column\n",
    "olist_orders['order_purchase_year'] = \\\n",
    "olist_orders['order_purchase_timestamp'].apply(lambda x: x.year)\n",
    "\n",
    "# Creating new month column\n",
    "olist_orders['order_purchase_month'] = \\\n",
    "olist_orders['order_purchase_timestamp'].apply(lambda x: x.month)\n",
    "\n",
    "# Creating new day of week column\n",
    "olist_orders['order_purchase_dayofweek'] = \\\n",
    "olist_orders['order_purchase_timestamp'].apply(lambda x: x.dayofweek)"
   ]
  },
  {
   "cell_type": "code",
   "execution_count": 90,
   "metadata": {},
   "outputs": [
    {
     "data": {
      "image/png": "[encoded data removed]",
      "text/plain": [
       "<Figure size 720x360 with 1 Axes>"
      ]
     },
     "metadata": {},
     "output_type": "display_data"
    }
   ],
   "source": [
    "# Preparing the chart\n",
    "fig, ax = plt.subplots(figsize=(10, 5))\n",
    "ax = sns.countplot(x='order_purchase_year', data=olist_orders, palette='Blues_d')\n",
    "#format_spines(ax, right_border=False)\n",
    "\n",
    "# Showing frequency\n",
    "ncount = len(olist_orders)\n",
    "for p in ax.patches:\n",
    "    x=p.get_bbox().get_points()[:,0]\n",
    "    y=p.get_bbox().get_points()[1,1]\n",
    "    ax.annotate('{:.1f}%'.format(100.*y/ncount), (x.mean(), y), \n",
    "            ha='center', va='bottom', size=12)\n",
    "\n",
    "ax.set_title('Amount of Online Order by Year', size=14)\n",
    "ax.set_ylabel('Orders')\n",
    "ax.set_xlabel('Year')\n",
    "\n",
    "plt.tight_layout()\n",
    "plt.show()"
   ]
  },
  {
   "cell_type": "code",
   "execution_count": 106,
   "metadata": {},
   "outputs": [
    {
     "ename": "DataError",
     "evalue": "No numeric types to aggregate",
     "output_type": "error",
     "traceback": [
      "\u001b[1;31m---------------------------------------------------------------------------\u001b[0m",
      "\u001b[1;31mDataError\u001b[0m                                 Traceback (most recent call last)",
      "\u001b[1;32m<ipython-input-106-ae636c764a78>\u001b[0m in \u001b[0;36m<module>\u001b[1;34m()\u001b[0m\n\u001b[0;32m      6\u001b[0m \u001b[1;33m\u001b[0m\u001b[0m\n\u001b[0;32m      7\u001b[0m     \u001b[1;31m# let's calculate the mean SalePrice where the information is missing or present\u001b[0m\u001b[1;33m\u001b[0m\u001b[1;33m\u001b[0m\u001b[0m\n\u001b[1;32m----> 8\u001b[1;33m     \u001b[0mdata\u001b[0m\u001b[1;33m.\u001b[0m\u001b[0mgroupby\u001b[0m\u001b[1;33m(\u001b[0m\u001b[0mfeature\u001b[0m\u001b[1;33m)\u001b[0m\u001b[1;33m[\u001b[0m\u001b[1;34m'order_approved_at'\u001b[0m\u001b[1;33m]\u001b[0m\u001b[1;33m.\u001b[0m\u001b[0mmedian\u001b[0m\u001b[1;33m(\u001b[0m\u001b[1;33m)\u001b[0m\u001b[1;33m.\u001b[0m\u001b[0mplot\u001b[0m\u001b[1;33m.\u001b[0m\u001b[0mbar\u001b[0m\u001b[1;33m(\u001b[0m\u001b[1;33m)\u001b[0m\u001b[1;33m\u001b[0m\u001b[0m\n\u001b[0m\u001b[0;32m      9\u001b[0m     \u001b[0mplt\u001b[0m\u001b[1;33m.\u001b[0m\u001b[0mtitle\u001b[0m\u001b[1;33m(\u001b[0m\u001b[0mfeature\u001b[0m\u001b[1;33m)\u001b[0m\u001b[1;33m\u001b[0m\u001b[0m\n\u001b[0;32m     10\u001b[0m     \u001b[0mplt\u001b[0m\u001b[1;33m.\u001b[0m\u001b[0mshow\u001b[0m\u001b[1;33m(\u001b[0m\u001b[1;33m)\u001b[0m\u001b[1;33m\u001b[0m\u001b[0m\n",
      "\u001b[1;32m~\\AppData\\Local\\Continuum\\anaconda3\\lib\\site-packages\\pandas\\core\\groupby\\groupby.py\u001b[0m in \u001b[0;36mmedian\u001b[1;34m(self, **kwargs)\u001b[0m\n\u001b[0;32m   1321\u001b[0m         \"\"\"\n\u001b[0;32m   1322\u001b[0m         \u001b[1;32mtry\u001b[0m\u001b[1;33m:\u001b[0m\u001b[1;33m\u001b[0m\u001b[0m\n\u001b[1;32m-> 1323\u001b[1;33m             \u001b[1;32mreturn\u001b[0m \u001b[0mself\u001b[0m\u001b[1;33m.\u001b[0m\u001b[0m_cython_agg_general\u001b[0m\u001b[1;33m(\u001b[0m\u001b[1;34m'median'\u001b[0m\u001b[1;33m,\u001b[0m \u001b[1;33m**\u001b[0m\u001b[0mkwargs\u001b[0m\u001b[1;33m)\u001b[0m\u001b[1;33m\u001b[0m\u001b[0m\n\u001b[0m\u001b[0;32m   1324\u001b[0m         \u001b[1;32mexcept\u001b[0m \u001b[0mGroupByError\u001b[0m\u001b[1;33m:\u001b[0m\u001b[1;33m\u001b[0m\u001b[0m\n\u001b[0;32m   1325\u001b[0m             \u001b[1;32mraise\u001b[0m\u001b[1;33m\u001b[0m\u001b[0m\n",
      "\u001b[1;32m~\\AppData\\Local\\Continuum\\anaconda3\\lib\\site-packages\\pandas\\core\\groupby\\groupby.py\u001b[0m in \u001b[0;36m_cython_agg_general\u001b[1;34m(self, how, alt, numeric_only, min_count)\u001b[0m\n\u001b[0;32m   1054\u001b[0m \u001b[1;33m\u001b[0m\u001b[0m\n\u001b[0;32m   1055\u001b[0m         \u001b[1;32mif\u001b[0m \u001b[0mlen\u001b[0m\u001b[1;33m(\u001b[0m\u001b[0moutput\u001b[0m\u001b[1;33m)\u001b[0m \u001b[1;33m==\u001b[0m \u001b[1;36m0\u001b[0m\u001b[1;33m:\u001b[0m\u001b[1;33m\u001b[0m\u001b[0m\n\u001b[1;32m-> 1056\u001b[1;33m             \u001b[1;32mraise\u001b[0m \u001b[0mDataError\u001b[0m\u001b[1;33m(\u001b[0m\u001b[1;34m'No numeric types to aggregate'\u001b[0m\u001b[1;33m)\u001b[0m\u001b[1;33m\u001b[0m\u001b[0m\n\u001b[0m\u001b[0;32m   1057\u001b[0m \u001b[1;33m\u001b[0m\u001b[0m\n\u001b[0;32m   1058\u001b[0m         \u001b[1;32mreturn\u001b[0m \u001b[0mself\u001b[0m\u001b[1;33m.\u001b[0m\u001b[0m_wrap_aggregated_output\u001b[0m\u001b[1;33m(\u001b[0m\u001b[0moutput\u001b[0m\u001b[1;33m,\u001b[0m \u001b[0mnames\u001b[0m\u001b[1;33m)\u001b[0m\u001b[1;33m\u001b[0m\u001b[0m\n",
      "\u001b[1;31mDataError\u001b[0m: No numeric types to aggregate"
     ]
    }
   ],
   "source": [
    "for feature in olist_orders:\n",
    "    data=olist_orders.copy()\n",
    "    \n",
    "    # let's make a variable that indicates 1 if the observation was missing or zero otherwise\n",
    "    data[feature]=np.where(data[feature].isnull() , 1 ,0)\n",
    "    \n",
    "    # let's calculate the mean SalePrice where the information is missing or present\n",
    "    data.groupby(feature)['order_approved_at'].median().plot.bar()\n",
    "    plt.title(feature)\n",
    "    plt.show()"
   ]
  },
  {
   "cell_type": "raw",
   "metadata": {},
   "source": []
  },
  {
   "cell_type": "code",
   "execution_count": null,
   "metadata": {},
   "outputs": [],
   "source": []
  },
  {
   "cell_type": "code",
   "execution_count": null,
   "metadata": {},
   "outputs": [],
   "source": []
  },
  {
   "cell_type": "code",
   "execution_count": null,
   "metadata": {},
   "outputs": [],
   "source": []
  }
 ],
 "metadata": {
  "kernelspec": {
   "display_name": "Python 3",
   "language": "python",
   "name": "python3"
  },
  "language_info": {
   "codemirror_mode": {
    "name": "ipython",
    "version": 3
   },
   "file_extension": ".py",
   "mimetype": "text/x-python",
   "name": "python",
   "nbconvert_exporter": "python",
   "pygments_lexer": "ipython3",
   "version": "3.6.5"
  }
 },
 "nbformat": 4,
 "nbformat_minor": 2
}
