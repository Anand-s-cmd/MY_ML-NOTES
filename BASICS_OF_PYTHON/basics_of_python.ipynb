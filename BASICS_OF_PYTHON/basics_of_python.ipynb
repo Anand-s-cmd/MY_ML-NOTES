{
 "cells": [
  {
   "cell_type": "code",
   "execution_count": 1,
   "id": "154dc22f",
   "metadata": {},
   "outputs": [
    {
     "name": "stdout",
     "output_type": "stream",
     "text": [
      "Labrador is barking.\n"
     ]
    }
   ],
   "source": [
    "class Dog:\n",
    " \n",
    "    def __init__(self, breed):\n",
    "        self.breed = breed\n",
    " \n",
    "    def bark(self):\n",
    "        print(f'{self.breed} is barking.')\n",
    " \n",
    " \n",
    "d = Dog('Labrador')\n",
    "d.bark()"
   ]
  },
  {
   "cell_type": "code",
   "execution_count": 2,
   "id": "8e5d3196",
   "metadata": {},
   "outputs": [
    {
     "name": "stdout",
     "output_type": "stream",
     "text": [
      "Sara Ansh 22 A2\n"
     ]
    }
   ],
   "source": [
    "# class definition\n",
    "class Student:\n",
    "   def __init__(self, fname, lname, age, section):\n",
    "       self.firstname = fname\n",
    "       self.lastname = lname\n",
    "       self.age = age\n",
    "       self.section = section\n",
    "       print(fname,lname,age,section)\n",
    "    \n",
    "# creating a new object\n",
    "stu1 = Student(\"Sara\", \"Ansh\", 22, \"A2\")"
   ]
  },
  {
   "cell_type": "code",
   "execution_count": 5,
   "id": "7a77705d",
   "metadata": {},
   "outputs": [
    {
     "name": "stdout",
     "output_type": "stream",
     "text": [
      "1\n",
      "3\n",
      "1\n",
      "3\n",
      "1\n",
      "0\n"
     ]
    }
   ],
   "source": [
    "pat = [1, 3, 2, 1, 2, 3, 1, 0, 1, 3]\n",
    "for p in pat:\n",
    "   pass\n",
    "   if (p == 0):\n",
    "       current = p\n",
    "       break\n",
    "   elif (p % 2 == 0):\n",
    "       continue\n",
    "   print(p)    # output => 1 3 1 3 1\n",
    "print(current)    # output => "
   ]
  },
  {
   "cell_type": "code",
   "execution_count": 1,
   "id": "3df39f59",
   "metadata": {},
   "outputs": [
    {
     "name": "stdout",
     "output_type": "stream",
     "text": [
      "123\n"
     ]
    }
   ],
   "source": [
    "a=123\n",
    "print(a)"
   ]
  },
  {
   "cell_type": "code",
   "execution_count": 8,
   "id": "b169832e",
   "metadata": {},
   "outputs": [
    {
     "data": {
      "text/plain": [
       "'Hello Sara! Hello Ansh!'"
      ]
     },
     "execution_count": 8,
     "metadata": {},
     "output_type": "execute_result"
    }
   ],
   "source": [
    "# decorator function to capitalize names\n",
    "def names_decorator(function):\n",
    "   def wrapper(arg1, arg2):\n",
    "       arg1 = arg1.capitalize()\n",
    "       arg2 = arg2.capitalize()\n",
    "       string_hello = function(arg1, arg2)\n",
    "       return string_hello\n",
    "   return wrapper\n",
    "\n",
    "@names_decorator\n",
    "\n",
    "def say_hello(name1, name2):\n",
    "   return 'Hello ' + name1 + '! Hello ' + name2 + '!'\n",
    "say_hello('sara', 'ansh')   # output => 'Hello Sara! Hello Ansh!'"
   ]
  },
  {
   "cell_type": "code",
   "execution_count": 10,
   "id": "aa67e1ed",
   "metadata": {},
   "outputs": [
    {
     "name": "stdout",
     "output_type": "stream",
     "text": [
      "[4, 9, 25, 49, 121]\n",
      "{2: 4, 3: 9, 5: 25, 7: 49, 11: 121}\n"
     ]
    }
   ],
   "source": [
    "#Dict and List comprehensions\n",
    "\n",
    "#Performing mathematical operations on the entire list\n",
    "\n",
    "my_list = [2, 3, 5, 7, 11]\n",
    "\n",
    "squared_list = [x**2 for x in my_list]    # list comprehension\n",
    "print(squared_list)  # output => [4 , 9 , 25 , 49 , 121]\n",
    "\n",
    "squared_dict = {x:x**2 for x in my_list}    # dict comprehension\n",
    "print(squared_dict)  # output => {11: 121, 2: 4 , 3: 9 , 5: 25 , 7: 49}"
   ]
  },
  {
   "cell_type": "code",
   "execution_count": 11,
   "id": "b8a25d2a",
   "metadata": {},
   "outputs": [
    {
     "name": "stdout",
     "output_type": "stream",
     "text": [
      "[9, 25, 49, 121]\n",
      "{3: 9, 5: 25, 7: 49, 11: 121}\n"
     ]
    }
   ],
   "source": [
    "#Performing conditional filtering operations on the entire list\n",
    "\n",
    "my_list = [2, 3, 5, 7, 11]\n",
    "squared_list = [x**2 for x in my_list if x%2 != 0]    # list comprehension\n",
    "print(squared_list)    # output => [9 , 25 , 49 , 121]\n",
    "\n",
    "squared_dict = {x:x**2 for x in my_list if x%2 != 0}    # dict comprehension\n",
    "print(squared_dict)    # output => {11: 121, 3: 9 , 5: 25 , 7: 49}"
   ]
  },
  {
   "cell_type": "code",
   "execution_count": 2,
   "id": "c9dcbb5d",
   "metadata": {},
   "outputs": [
    {
     "name": "stdout",
     "output_type": "stream",
     "text": [
      "125\n"
     ]
    }
   ],
   "source": [
    "b=2\n",
    "c=a+b\n",
    "print(c)"
   ]
  },
  {
   "cell_type": "code",
   "execution_count": 3,
   "id": "4aedbf0a",
   "metadata": {},
   "outputs": [
    {
     "data": {
      "text/plain": [
       "50"
      ]
     },
     "execution_count": 3,
     "metadata": {},
     "output_type": "execute_result"
    }
   ],
   "source": [
    "my_dict = {'name': 'Hugh Jackman', 'age': 50, 'films': ['Logan', 'Deadpool 2', 'The Front Runner']}\n",
    "my_dict['age']"
   ]
  },
  {
   "cell_type": "code",
   "execution_count": 14,
   "id": "caaa53db",
   "metadata": {},
   "outputs": [
    {
     "name": "stdout",
     "output_type": "stream",
     "text": [
      "10\n",
      "6\n"
     ]
    }
   ],
   "source": [
    "mul = lambda a, b : a * b\n",
    "print(mul(2, 5))    # output => 10\n",
    "\n",
    "mul=lambda a,b: a*b\n",
    "print(mul(2,3))"
   ]
  },
  {
   "cell_type": "code",
   "execution_count": 10,
   "id": "1d43bff5",
   "metadata": {},
   "outputs": [
    {
     "name": "stdout",
     "output_type": "stream",
     "text": [
      "[3, 4]\n"
     ]
    }
   ],
   "source": [
    " #list comprehensions\n",
    "old_list = [1,2]\n",
    "new_list = [x+2 for x in old_list]\n",
    "print(new_list)    "
   ]
  },
  {
   "cell_type": "code",
   "execution_count": 11,
   "id": "5034b771",
   "metadata": {},
   "outputs": [
    {
     "name": "stdout",
     "output_type": "stream",
     "text": [
      "9\n"
     ]
    }
   ],
   "source": [
    "#negative index\n",
    "list = [2, 5, 4, 7, 5, 6, 9]\n",
    "print (list[-1])"
   ]
  },
  {
   "cell_type": "code",
   "execution_count": 14,
   "id": "2cfb02e2",
   "metadata": {},
   "outputs": [
    {
     "name": "stdout",
     "output_type": "stream",
     "text": [
      "e\n"
     ]
    }
   ],
   "source": [
    "a = \"Hello, World!\"\n",
    "print(a[1])"
   ]
  },
  {
   "cell_type": "code",
   "execution_count": 16,
   "id": "523e2d38",
   "metadata": {},
   "outputs": [
    {
     "name": "stdout",
     "output_type": "stream",
     "text": [
      "1\n",
      "2\n",
      "3\n",
      "4\n",
      "5\n"
     ]
    }
   ],
   "source": [
    "for x in \"12345\":\n",
    "  print(x)"
   ]
  },
  {
   "cell_type": "code",
   "execution_count": 17,
   "id": "b89191e3",
   "metadata": {},
   "outputs": [
    {
     "name": "stdout",
     "output_type": "stream",
     "text": [
      "True\n"
     ]
    }
   ],
   "source": [
    "txt = \"The best things in life are free!\"\n",
    "print(\"free\" in txt)"
   ]
  },
  {
   "cell_type": "code",
   "execution_count": 18,
   "id": "2c4f379a",
   "metadata": {},
   "outputs": [
    {
     "ename": "NameError",
     "evalue": "name 'free' is not defined",
     "output_type": "error",
     "traceback": [
      "\u001b[1;31m---------------------------------------------------------------------------\u001b[0m",
      "\u001b[1;31mNameError\u001b[0m                                 Traceback (most recent call last)",
      "\u001b[1;32mC:\\Users\\ANANDH~1\\AppData\\Local\\Temp/ipykernel_8088/549752374.py\u001b[0m in \u001b[0;36m<module>\u001b[1;34m\u001b[0m\n\u001b[0;32m      1\u001b[0m \u001b[0mtxt\u001b[0m \u001b[1;33m=\u001b[0m \u001b[1;34m\"The best things in life are free!\"\u001b[0m\u001b[1;33m\u001b[0m\u001b[1;33m\u001b[0m\u001b[0m\n\u001b[1;32m----> 2\u001b[1;33m \u001b[0ms\u001b[0m\u001b[1;33m=\u001b[0m\u001b[0mfree\u001b[0m\u001b[1;33m\u001b[0m\u001b[1;33m\u001b[0m\u001b[0m\n\u001b[0m\u001b[0;32m      3\u001b[0m \u001b[0mprint\u001b[0m\u001b[1;33m(\u001b[0m\u001b[0ms\u001b[0m \u001b[1;32min\u001b[0m \u001b[0mtxt\u001b[0m\u001b[1;33m)\u001b[0m\u001b[1;33m\u001b[0m\u001b[1;33m\u001b[0m\u001b[0m\n",
      "\u001b[1;31mNameError\u001b[0m: name 'free' is not defined"
     ]
    }
   ],
   "source": [
    "txt = \"The best things in life are free!\"\n",
    "s=free\n",
    "print(s in txt)"
   ]
  },
  {
   "cell_type": "code",
   "execution_count": 19,
   "id": "69ea7faf",
   "metadata": {},
   "outputs": [
    {
     "name": "stdout",
     "output_type": "stream",
     "text": [
      "Yes, 'free' is present.\n"
     ]
    }
   ],
   "source": [
    "txt = \"The best things in life are free!\"\n",
    "if \"free\" in txt:\n",
    "  print(\"Yes, 'free' is present.\")"
   ]
  },
  {
   "cell_type": "code",
   "execution_count": 22,
   "id": "694af48c",
   "metadata": {},
   "outputs": [
    {
     "name": "stdout",
     "output_type": "stream",
     "text": [
      "llo\n"
     ]
    }
   ],
   "source": [
    "b = \"Hello, World!\"\n",
    "print(b[2:5])"
   ]
  },
  {
   "cell_type": "code",
   "execution_count": 23,
   "id": "6c0d1551",
   "metadata": {},
   "outputs": [
    {
     "name": "stdout",
     "output_type": "stream",
     "text": [
      "Hello\n"
     ]
    }
   ],
   "source": [
    "b = \"Hello, World!\"\n",
    "print(b[:5])"
   ]
  },
  {
   "cell_type": "code",
   "execution_count": 25,
   "id": "638b87fd",
   "metadata": {},
   "outputs": [
    {
     "name": "stdout",
     "output_type": "stream",
     "text": [
      ", World!\n"
     ]
    }
   ],
   "source": [
    "b = \"Hello, World!\"\n",
    "print(b[5:])"
   ]
  },
  {
   "cell_type": "code",
   "execution_count": 26,
   "id": "58f6498c",
   "metadata": {},
   "outputs": [
    {
     "name": "stdout",
     "output_type": "stream",
     "text": [
      "orl\n"
     ]
    }
   ],
   "source": [
    "#Negative Indexing\n",
    "\n",
    "b = \"Hello, World!\"\n",
    "print(b[-5:-2])"
   ]
  },
  {
   "cell_type": "code",
   "execution_count": 27,
   "id": "cb72a253",
   "metadata": {},
   "outputs": [
    {
     "name": "stdout",
     "output_type": "stream",
     "text": [
      "HELLO, WORLD!\n"
     ]
    }
   ],
   "source": [
    "a = \"Hello, World!\"\n",
    "print(a.upper())"
   ]
  },
  {
   "cell_type": "code",
   "execution_count": 28,
   "id": "263756c8",
   "metadata": {},
   "outputs": [
    {
     "name": "stdout",
     "output_type": "stream",
     "text": [
      "Hello, World!\n"
     ]
    }
   ],
   "source": [
    "#Remove Whitespace\n",
    "\n",
    "a = \" Hello, World! \"\n",
    "print(a.strip()) # returns \"Hello, World!\""
   ]
  },
  {
   "cell_type": "code",
   "execution_count": 30,
   "id": "f2740174",
   "metadata": {},
   "outputs": [
    {
     "name": "stdout",
     "output_type": "stream",
     "text": [
      "yello, World!\n"
     ]
    }
   ],
   "source": [
    "#Replace String\n",
    "\n",
    "a = \"Hello, World!\"\n",
    "print(a.replace(\"H\", \"y\"))"
   ]
  },
  {
   "cell_type": "code",
   "execution_count": 31,
   "id": "9e935daa",
   "metadata": {},
   "outputs": [
    {
     "name": "stdout",
     "output_type": "stream",
     "text": [
      "HelloWorld\n"
     ]
    }
   ],
   "source": [
    "a = \"Hello\"\n",
    "b = \"World\"\n",
    "c = a + b\n",
    "print(c)"
   ]
  },
  {
   "cell_type": "code",
   "execution_count": 32,
   "id": "4775c97d",
   "metadata": {},
   "outputs": [
    {
     "name": "stdout",
     "output_type": "stream",
     "text": [
      "Hello World\n"
     ]
    }
   ],
   "source": [
    "a = \"Hello\"\n",
    "b = \"World\"\n",
    "c = a + \" \" + b\n",
    "print(c)"
   ]
  },
  {
   "cell_type": "code",
   "execution_count": 35,
   "id": "db5c38db",
   "metadata": {},
   "outputs": [
    {
     "name": "stdout",
     "output_type": "stream",
     "text": [
      "My name is John, and I am 36\n"
     ]
    }
   ],
   "source": [
    "#String Format\n",
    "\n",
    "age = 36\n",
    "txt = \"My name is John, and I am {}\"\n",
    "print(txt.format(age))"
   ]
  },
  {
   "cell_type": "code",
   "execution_count": 36,
   "id": "c4c40fcb",
   "metadata": {},
   "outputs": [
    {
     "name": "stdout",
     "output_type": "stream",
     "text": [
      "I want 3 pieces of item 567 for 49.95 dollars.\n"
     ]
    }
   ],
   "source": [
    "quantity = 3\n",
    "itemno = 567\n",
    "price = 49.95\n",
    "myorder = \"I want {} pieces of item {} for {} dollars.\"\n",
    "print(myorder.format(quantity, itemno, price))"
   ]
  },
  {
   "cell_type": "code",
   "execution_count": 38,
   "id": "f640b818",
   "metadata": {},
   "outputs": [
    {
     "name": "stdout",
     "output_type": "stream",
     "text": [
      "2\n"
     ]
    }
   ],
   "source": [
    "txt = \"I love apples, apple are my favorite fruit\"\n",
    "\n",
    "x = txt.count(\"apple\")\n",
    "\n",
    "print(x)"
   ]
  },
  {
   "cell_type": "code",
   "execution_count": 39,
   "id": "1c8834c5",
   "metadata": {},
   "outputs": [
    {
     "name": "stdout",
     "output_type": "stream",
     "text": [
      "True\n"
     ]
    }
   ],
   "source": [
    "txt = \"Hello, welcome to my world.\"\n",
    "\n",
    "x = txt.endswith(\".\")\n",
    "\n",
    "print(x)"
   ]
  },
  {
   "cell_type": "code",
   "execution_count": 40,
   "id": "081f20ca",
   "metadata": {},
   "outputs": [
    {
     "name": "stdout",
     "output_type": "stream",
     "text": [
      "Welcome To My World\n"
     ]
    }
   ],
   "source": [
    "txt = \"Welcome to my world\"\n",
    "\n",
    "x = txt.title()\n",
    "\n",
    "print(x)"
   ]
  },
  {
   "cell_type": "code",
   "execution_count": 41,
   "id": "396270a7",
   "metadata": {},
   "outputs": [
    {
     "name": "stdout",
     "output_type": "stream",
     "text": [
      "hELLO mY nAME iS peter\n"
     ]
    }
   ],
   "source": [
    "txt = \"Hello My Name Is PETER\"\n",
    "\n",
    "x = txt.swapcase()\n",
    "\n",
    "print(x)"
   ]
  },
  {
   "cell_type": "code",
   "execution_count": 29,
   "id": "db041618",
   "metadata": {},
   "outputs": [
    {
     "name": "stdout",
     "output_type": "stream",
     "text": [
      "[1, 2, [3, 5], 4]\n",
      "[1, 2, [3, 5], 4]\n"
     ]
    }
   ],
   "source": [
    "from copy import copy, deepcopy\n",
    "list_1 = [1, 2, [3, 5], 4]\n",
    "## shallow copy\n",
    "list_2 = copy(list_1) \n",
    "print(list_1)\n",
    "print(list_2)"
   ]
  },
  {
   "cell_type": "code",
   "execution_count": 30,
   "id": "3d00f1d3",
   "metadata": {},
   "outputs": [
    {
     "name": "stdout",
     "output_type": "stream",
     "text": [
      "[1, 2, [3, 5], 7]\n"
     ]
    }
   ],
   "source": [
    "list_2[3] = 7\n",
    "print(list_2)"
   ]
  },
  {
   "cell_type": "code",
   "execution_count": 31,
   "id": "80082bff",
   "metadata": {},
   "outputs": [
    {
     "name": "stdout",
     "output_type": "stream",
     "text": [
      "[1, 2, [3, 5, 6], 7]\n"
     ]
    }
   ],
   "source": [
    "list_2[2].append(6)\n",
    "print(list_2)"
   ]
  },
  {
   "cell_type": "code",
   "execution_count": 32,
   "id": "7815a008",
   "metadata": {},
   "outputs": [
    {
     "name": "stdout",
     "output_type": "stream",
     "text": [
      "[1, 2, [3, 5, 6], 4]\n",
      "[1, 2, [3, 5, 6], 7]\n"
     ]
    }
   ],
   "source": [
    "print(list_1)\n",
    "\n",
    "print(list_2)"
   ]
  },
  {
   "cell_type": "code",
   "execution_count": 35,
   "id": "28210cad",
   "metadata": {},
   "outputs": [
    {
     "name": "stdout",
     "output_type": "stream",
     "text": [
      "[1, 2, [3, 5, 6], 4]\n",
      "[1, 2, [3, 5, 6], 4]\n"
     ]
    }
   ],
   "source": [
    "## deep copy\n",
    "list_3 = deepcopy(list_1)\n",
    "\n",
    "print(list_1)\n",
    "print(list_3)\n"
   ]
  },
  {
   "cell_type": "code",
   "execution_count": 36,
   "id": "9fe48064",
   "metadata": {},
   "outputs": [
    {
     "name": "stdout",
     "output_type": "stream",
     "text": [
      "[1, 2, [3, 5, 6], 8]\n"
     ]
    }
   ],
   "source": [
    "list_3[3] = 8\n",
    "print(list_3)"
   ]
  },
  {
   "cell_type": "code",
   "execution_count": 37,
   "id": "50090bdc",
   "metadata": {},
   "outputs": [
    {
     "name": "stdout",
     "output_type": "stream",
     "text": [
      "[1, 2, [3, 5, 6], 4]\n",
      "[1, 2, [3, 5, 6, 7], 8]\n"
     ]
    }
   ],
   "source": [
    "list_3[2].append(7)\n",
    "\n",
    "print(list_1)\n",
    "print(list_3)"
   ]
  },
  {
   "cell_type": "code",
   "execution_count": 44,
   "id": "05e89efa",
   "metadata": {},
   "outputs": [
    {
     "name": "stdout",
     "output_type": "stream",
     "text": [
      "['This', 'is', 'a', 'string.']\n",
      "\n",
      "\n",
      "This is a string.\n"
     ]
    }
   ],
   "source": [
    "string = \"This is a string.\"\n",
    "\n",
    "string_list = string.split(' ') #delimiter is ‘space’ character or ‘ ‘\n",
    "print(string_list) #output: ['This', 'is', 'a', 'string.']\n",
    "\n",
    "print(\"\\n\")\n",
    "\n",
    "print(' '.join(string_list)) #output: This is a string"
   ]
  },
  {
   "cell_type": "code",
   "execution_count": 22,
   "id": "5e692b5c",
   "metadata": {},
   "outputs": [
    {
     "name": "stdout",
     "output_type": "stream",
     "text": [
      "1\n",
      "2\n",
      "3\n"
     ]
    }
   ],
   "source": [
    "def myFun(*args):\n",
    "\tfor arg in args:\n",
    "\t\tprint(arg)\n",
    "\n",
    "\n",
    "myFun('1', '2', '3')\n"
   ]
  },
  {
   "cell_type": "code",
   "execution_count": 23,
   "id": "c63ce2e4",
   "metadata": {},
   "outputs": [
    {
     "name": "stdout",
     "output_type": "stream",
     "text": [
      "First argument : Hello\n",
      "Next argument through *argv : Welcome\n",
      "Next argument through *argv : to\n",
      "Next argument through *argv : GeeksforGeeks\n"
     ]
    }
   ],
   "source": [
    "def myFun(arg1, *argv):\n",
    "\tprint(\"First argument :\", arg1)\n",
    "\tfor arg in argv:\n",
    "\t\tprint(\"Next argument through *argv :\", arg)\n",
    "\n",
    "\n",
    "myFun('Hello', 'Welcome', 'to', 'GeeksforGeeks')\n"
   ]
  },
  {
   "cell_type": "code",
   "execution_count": 25,
   "id": "160ddeb6",
   "metadata": {},
   "outputs": [
    {
     "name": "stdout",
     "output_type": "stream",
     "text": [
      "first Geeks\n",
      "mid for\n",
      "last Geeks\n"
     ]
    }
   ],
   "source": [
    "def myFun(**kwargs):\n",
    "\tfor key, value in kwargs.items():\n",
    "\t\tprint(key, value)\n",
    "\n",
    "\n",
    "# Driver code\n",
    "myFun(first='Geeks', mid='for', last='Geeks')"
   ]
  },
  {
   "cell_type": "code",
   "execution_count": 34,
   "id": "ca208360",
   "metadata": {},
   "outputs": [
    {
     "name": "stdout",
     "output_type": "stream",
     "text": [
      "1\n",
      "2\n"
     ]
    }
   ],
   "source": [
    "def m(*args):\n",
    "    for arg in args:\n",
    "        print(arg)\n",
    "        \n",
    "m('1','2')\n"
   ]
  },
  {
   "cell_type": "code",
   "execution_count": 40,
   "id": "50a8439e",
   "metadata": {},
   "outputs": [
    {
     "name": "stdout",
     "output_type": "stream",
     "text": [
      "1\n",
      "2\n",
      "\n",
      "\n",
      "a 1\n",
      "b 2\n"
     ]
    }
   ],
   "source": [
    "def m(*args):\n",
    "    for arg in args:\n",
    "        print(arg)\n",
    "m(1,2)  \n",
    "\n",
    "print(\"\\n\")\n",
    "\n",
    "def n(**kwargs):\n",
    "    for key,value in kwargs.items():\n",
    "        print(key,value)\n",
    "        \n",
    "n(a=1,b=2)        \n",
    "    "
   ]
  },
  {
   "cell_type": "code",
   "execution_count": 1,
   "id": "1feedce5",
   "metadata": {},
   "outputs": [
    {
     "name": "stdout",
     "output_type": "stream",
     "text": [
      "[2, 4, 6]\n"
     ]
    }
   ],
   "source": [
    "l1=[1,2,3]\n",
    "l2=[x*2 for x in l1]\n",
    "print(l2)"
   ]
  },
  {
   "cell_type": "code",
   "execution_count": 11,
   "id": "601a4135",
   "metadata": {},
   "outputs": [
    {
     "name": "stdout",
     "output_type": "stream",
     "text": [
      "{1: 1, 2: 4, 3: 9}\n"
     ]
    }
   ],
   "source": [
    "d2={x:x**2 for x in l1}\n",
    "print(d2)"
   ]
  },
  {
   "cell_type": "code",
   "execution_count": 9,
   "id": "251fc559",
   "metadata": {},
   "outputs": [
    {
     "name": "stdout",
     "output_type": "stream",
     "text": [
      "3\n"
     ]
    }
   ],
   "source": [
    "c=lambda a, b: a+b\n",
    "print(c(1,2))"
   ]
  },
  {
   "cell_type": "code",
   "execution_count": 13,
   "id": "0a444c30",
   "metadata": {},
   "outputs": [
    {
     "name": "stdout",
     "output_type": "stream",
     "text": [
      "1\n",
      "2\n",
      "3\n",
      "4\n"
     ]
    }
   ],
   "source": [
    "# Example of Iterators in Python\n",
    "\n",
    "# Python objects that iterate through iterable objects are called Iterators\n",
    "\n",
    "nums = [1, 2, 3, 4]\n",
    "obj = iter(nums)\n",
    "print(next(obj))\n",
    "print(next(obj))\n",
    "print(next(obj))\n",
    "print(next(obj))"
   ]
  },
  {
   "cell_type": "code",
   "execution_count": 14,
   "id": "984a1b43",
   "metadata": {},
   "outputs": [
    {
     "name": "stdout",
     "output_type": "stream",
     "text": [
      "1\n",
      "2\n",
      "3\n",
      "4\n"
     ]
    }
   ],
   "source": [
    "#Example of Generators in Python\n",
    "\n",
    "def nums():\n",
    "   for i in range(1, 5):\n",
    "       yield i\n",
    "\n",
    "obj = nums()\n",
    "print(next(obj))\n",
    "print(next(obj))\n",
    "print(next(obj))\n",
    "print(next(obj))"
   ]
  },
  {
   "cell_type": "code",
   "execution_count": 16,
   "id": "7650ddf3",
   "metadata": {},
   "outputs": [
    {
     "name": "stdout",
     "output_type": "stream",
     "text": [
      "['anand', 'huded']\n"
     ]
    }
   ],
   "source": [
    "s1=\"anand huded\"\n",
    "s2=s1.split(' ')\n",
    "print(s2)"
   ]
  },
  {
   "cell_type": "code",
   "execution_count": 17,
   "id": "f70fca1b",
   "metadata": {},
   "outputs": [
    {
     "name": "stdout",
     "output_type": "stream",
     "text": [
      "anand huded\n"
     ]
    }
   ],
   "source": [
    "s3=(' ').join(s2)\n",
    "print(s3)"
   ]
  },
  {
   "cell_type": "code",
   "execution_count": 43,
   "id": "fee75468",
   "metadata": {},
   "outputs": [
    {
     "name": "stdout",
     "output_type": "stream",
     "text": [
      "anand\n"
     ]
    }
   ],
   "source": [
    "#How do you create a class in Python?\n",
    "\n",
    "class A:\n",
    "    def __init__(self, name):\n",
    "        self.name=name\n",
    "        print(name)\n",
    "        \n",
    "ob=A('anand')"
   ]
  },
  {
   "cell_type": "code",
   "execution_count": 50,
   "id": "85536e4c",
   "metadata": {},
   "outputs": [
    {
     "name": "stdout",
     "output_type": "stream",
     "text": [
      "anand\n",
      "anand\n"
     ]
    }
   ],
   "source": [
    "class A:\n",
    "    def __init__(self, name):\n",
    "        self.name=name\n",
    "        print(name)\n",
    "        \n",
    "    def naming(self):\n",
    "        print(self.name)\n",
    "    \n",
    "        \n",
    "ob=A('anand')\n",
    "ob.naming()"
   ]
  },
  {
   "cell_type": "code",
   "execution_count": 51,
   "id": "58212ac2",
   "metadata": {},
   "outputs": [
    {
     "name": "stdout",
     "output_type": "stream",
     "text": [
      "I am parent class function\n",
      "I am child class function\n"
     ]
    }
   ],
   "source": [
    "#Single Inheritance\n",
    "\n",
    "# Parent class\n",
    "class ParentClass:\n",
    "    def par_func(self):\n",
    "         print(\"I am parent class function\")\n",
    "\n",
    "# Child class\n",
    "class ChildClass(ParentClass):\n",
    "    def child_func(self):\n",
    "         print(\"I am child class function\")\n",
    "\n",
    "# Driver code\n",
    "obj1 = ChildClass()\n",
    "obj1.par_func()\n",
    "obj1.child_func()"
   ]
  },
  {
   "cell_type": "code",
   "execution_count": 49,
   "id": "e2deda2e",
   "metadata": {},
   "outputs": [
    {
     "name": "stdout",
     "output_type": "stream",
     "text": [
      "parent\n",
      "A name :  parent\n",
      "B name :  intermediate\n",
      "C name :  child\n"
     ]
    }
   ],
   "source": [
    "#Multi-level Inheritance:\n",
    "\n",
    "# Parent class\n",
    "class A:\n",
    "   def __init__(self, a_name):\n",
    "       self.a_name = a_name\n",
    "   \n",
    "# Intermediate class\n",
    "class B(A):\n",
    "   def __init__(self, b_name, a_name):\n",
    "       self.b_name = b_name\n",
    "       # invoke constructor of class A\n",
    "       A.__init__(self, a_name)\n",
    "\n",
    "# Child class\n",
    "class C(B):\n",
    "   def __init__(self,c_name, b_name, a_name):\n",
    "       self.c_name = c_name\n",
    "       # invoke constructor of class B\n",
    "       B.__init__(self, b_name, a_name)\n",
    "       \n",
    "   def display_names(self):\n",
    "       print(\"A name : \", self.a_name)\n",
    "       print(\"B name : \", self.b_name)\n",
    "       print(\"C name : \", self.c_name)\n",
    "\n",
    "#  Driver code\n",
    "obj1 = C('child', 'intermediate', 'parent')\n",
    "print(obj1.a_name)\n",
    "obj1.display_names()"
   ]
  },
  {
   "cell_type": "code",
   "execution_count": 47,
   "id": "2583b870",
   "metadata": {},
   "outputs": [
    {
     "name": "stdout",
     "output_type": "stream",
     "text": [
      "I am parent class function\n",
      "I am child class function\n"
     ]
    }
   ],
   "source": [
    "#Multiple Inheritance:\n",
    "\n",
    "# Parent class\n",
    "class A:\n",
    "    def par_func(self):\n",
    "         print(\"I am parent class function\")\n",
    "\n",
    "# Child class\n",
    "class B(A):\n",
    "    def child_func(self):\n",
    "         print(\"I am child class function\")\n",
    "\n",
    "# Driver code\n",
    "obj1 = B()\n",
    "obj1.par_func()\n",
    "obj1.child_func()"
   ]
  },
  {
   "cell_type": "code",
   "execution_count": 48,
   "id": "1398c2d5",
   "metadata": {},
   "outputs": [
    {
     "name": "stdout",
     "output_type": "stream",
     "text": [
      "Hi I am first Parent\n",
      "Hi I am second Parent\n"
     ]
    }
   ],
   "source": [
    "# Parent class1\n",
    "class Parent1:\n",
    "   def parent1_func(self):\n",
    "       print(\"Hi I am first Parent\")\n",
    "\n",
    "# Parent class2\n",
    "class Parent2:\n",
    "   def parent2_func(self):\n",
    "       print(\"Hi I am second Parent\")\n",
    "\n",
    "# Child class\n",
    "class Child(Parent1, Parent2):\n",
    "   def child_func(self):\n",
    "       self.parent1_func()\n",
    "       self.parent2_func()\n",
    "\n",
    "# Driver's code\n",
    "obj1 = Child()\n",
    "obj1.child_func()"
   ]
  },
  {
   "cell_type": "code",
   "execution_count": 52,
   "id": "43e471aa",
   "metadata": {},
   "outputs": [
    {
     "name": "stdout",
     "output_type": "stream",
     "text": [
      "Mr Employee\n"
     ]
    }
   ],
   "source": [
    "class InterviewbitEmployee:\n",
    "\n",
    "   # init method / constructor\n",
    "   def __init__(self, emp_name):\n",
    "       self.emp_name = emp_name\n",
    "       print(self.emp_name)\n",
    "\n",
    "       \n",
    "\n",
    "emp = InterviewbitEmployee('Mr Employee')    # __init__ method is called here and initializes the object name with \"Mr Employee\"\n"
   ]
  },
  {
   "cell_type": "code",
   "execution_count": 56,
   "id": "59075653",
   "metadata": {},
   "outputs": [
    {
     "name": "stdout",
     "output_type": "stream",
     "text": [
      "key1    2.0\n",
      "key2    3.1\n",
      "dtype: float64\n"
     ]
    }
   ],
   "source": [
    "## Can you create a series from the dictionary object in pandas?\n",
    "\n",
    "import pandas as pd \n",
    "\n",
    "dict_info = {'key1' : 2.0, 'key2' : 3.1}\n",
    "series_obj = pd.Series(dict_info)    \n",
    "print (series_obj)  "
   ]
  },
  {
   "cell_type": "code",
   "execution_count": 57,
   "id": "d147dc11",
   "metadata": {},
   "outputs": [
    {
     "name": "stdout",
     "output_type": "stream",
     "text": [
      "Hi Interviewbit!\n"
     ]
    }
   ],
   "source": [
    "def main():\n",
    "   print(\"Hi Interviewbit!\")\n",
    "if __name__==\"__main__\":\n",
    "   main()"
   ]
  },
  {
   "cell_type": "code",
   "execution_count": 58,
   "id": "4b23af98",
   "metadata": {},
   "outputs": [
    {
     "name": "stdout",
     "output_type": "stream",
     "text": [
      "4\n"
     ]
    }
   ],
   "source": [
    "data_list=[1,6,5,8]\n",
    "print(len(data_list))"
   ]
  },
  {
   "cell_type": "code",
   "execution_count": 61,
   "id": "69285a05",
   "metadata": {},
   "outputs": [
    {
     "name": "stdout",
     "output_type": "stream",
     "text": [
      "4\n"
     ]
    }
   ],
   "source": [
    "print(len(set(data_list)))"
   ]
  },
  {
   "cell_type": "code",
   "execution_count": 62,
   "id": "9775dd59",
   "metadata": {},
   "outputs": [
    {
     "name": "stdout",
     "output_type": "stream",
     "text": [
      "12\n"
     ]
    }
   ],
   "source": [
    "#Write a Program to add two integers >0 without using the plus operator.\n",
    "\n",
    "def add_nums(num1, num2):\n",
    "   while num2 != 0:\n",
    "       data = num1 & num2\n",
    "       num1 = num1 ^ num2\n",
    "       num2 = data << 1\n",
    "   return num1\n",
    "print(add_nums(2, 10))"
   ]
  },
  {
   "cell_type": "code",
   "execution_count": null,
   "id": "c7725024",
   "metadata": {},
   "outputs": [],
   "source": []
  }
 ],
 "metadata": {
  "kernelspec": {
   "display_name": "Python 3 (ipykernel)",
   "language": "python",
   "name": "python3"
  },
  "language_info": {
   "codemirror_mode": {
    "name": "ipython",
    "version": 3
   },
   "file_extension": ".py",
   "mimetype": "text/x-python",
   "name": "python",
   "nbconvert_exporter": "python",
   "pygments_lexer": "ipython3",
   "version": "3.9.7"
  }
 },
 "nbformat": 4,
 "nbformat_minor": 5
}
